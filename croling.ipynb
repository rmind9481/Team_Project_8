{
 "cells": [
  {
   "cell_type": "code",
   "execution_count": 2,
   "metadata": {},
   "outputs": [],
   "source": [
    "#pip install icrawler"
   ]
  },
  {
   "cell_type": "code",
   "execution_count": null,
   "metadata": {},
   "outputs": [
    {
     "name": "stderr",
     "output_type": "stream",
     "text": [
      "2025-04-16 14:30:01,571 - INFO - icrawler.crawler - start crawling...\n",
      "2025-04-16 14:30:01,572 - INFO - icrawler.crawler - starting 1 feeder threads...\n",
      "2025-04-16 14:30:01,574 - INFO - feeder - thread feeder-001 exit\n",
      "2025-04-16 14:30:01,575 - INFO - icrawler.crawler - starting 1 parser threads...\n",
      "2025-04-16 14:30:01,576 - INFO - icrawler.crawler - starting 1 downloader threads...\n",
      "2025-04-16 14:30:04,185 - INFO - parser - parsing result page https://www.google.com/search?q=%EC%83%81%EC%96%B4+%EA%B3%A0%ED%99%94%EC%A7%88&ijn=0&start=0&tbs=&tbm=isch\n",
      "2025-04-16 14:30:06,668 - INFO - downloader - image #1\thttps://plus.unsplash.com/premium_photo-1725408119883-75a8281dd95b?fm=jpg\n",
      "2025-04-16 14:30:08,338 - INFO - downloader - image #2\thttps://images.unsplash.com/photo-1531959870249-9f9b729efcf4?fm=jpg\n",
      "2025-04-16 14:30:09,434 - INFO - downloader - image #3\thttps://images.unsplash.com/photo-1560275619-4662e36fa65c?fm=jpg\n",
      "2025-04-16 14:30:12,134 - ERROR - downloader - Exception caught when downloading file https://png, error: HTTPSConnectionPool(host='png', port=443): Max retries exceeded with url: / (Caused by NameResolutionError(\"<urllib3.connection.HTTPSConnection object at 0x000002148DB9E730>: Failed to resolve 'png' ([Errno 11001] getaddrinfo failed)\")), remaining retry times: 2\n",
      "2025-04-16 14:30:14,418 - ERROR - downloader - Exception caught when downloading file https://png, error: HTTPSConnectionPool(host='png', port=443): Max retries exceeded with url: / (Caused by NameResolutionError(\"<urllib3.connection.HTTPSConnection object at 0x000002148DB9EB50>: Failed to resolve 'png' ([Errno 11001] getaddrinfo failed)\")), remaining retry times: 1\n",
      "2025-04-16 14:30:16,684 - ERROR - downloader - Exception caught when downloading file https://png, error: HTTPSConnectionPool(host='png', port=443): Max retries exceeded with url: / (Caused by NameResolutionError(\"<urllib3.connection.HTTPSConnection object at 0x000002148DB4E040>: Failed to resolve 'png' ([Errno 11001] getaddrinfo failed)\")), remaining retry times: 0\n",
      "2025-04-16 14:30:16,708 - ERROR - downloader - Exception caught when downloading file https://kor.png, error: HTTPSConnectionPool(host='kor.png', port=443): Max retries exceeded with url: / (Caused by NameResolutionError(\"<urllib3.connection.HTTPSConnection object at 0x000002148DB4E5B0>: Failed to resolve 'kor.png' ([Errno 11001] getaddrinfo failed)\")), remaining retry times: 2\n",
      "2025-04-16 14:30:16,708 - ERROR - downloader - Exception caught when downloading file https://kor.png, error: HTTPSConnectionPool(host='kor.png', port=443): Max retries exceeded with url: / (Caused by NameResolutionError(\"<urllib3.connection.HTTPSConnection object at 0x000002148DB4EA00>: Failed to resolve 'kor.png' ([Errno 11001] getaddrinfo failed)\")), remaining retry times: 1\n",
      "2025-04-16 14:30:16,708 - ERROR - downloader - Exception caught when downloading file https://kor.png, error: HTTPSConnectionPool(host='kor.png', port=443): Max retries exceeded with url: / (Caused by NameResolutionError(\"<urllib3.connection.HTTPSConnection object at 0x000002148DB4ED30>: Failed to resolve 'kor.png' ([Errno 11001] getaddrinfo failed)\")), remaining retry times: 0\n",
      "2025-04-16 14:30:18,220 - INFO - downloader - image #4\thttps://images.unsplash.com/photo-1586115457457-b3753fe50cf1?fm=jpg\n",
      "2025-04-16 14:30:18,539 - INFO - downloader - image #5\thttps://plus.unsplash.com/premium_photo-1664297946624-31525b13ce99?fm=jpg\n",
      "2025-04-16 14:30:18,613 - INFO - downloader - image #6\thttps://img.lovepik.com/bg/20240105/Mysterious-Shark-Dives-Deep-into-the-Ocean_2734973_wh860.jpg\n",
      "2025-04-16 14:30:19,468 - INFO - downloader - image #7\thttps://images.unsplash.com/photo-1497543273833-e64b94e67a71?fm=jpg\n",
      "2025-04-16 14:30:19,637 - INFO - downloader - image #8\thttps://pimg.mk.co.kr/news/cms/202303/17/news-p.v1.20230303.4e7650ba81704383b4a5c4c96e8cc23c_P1.jpg\n",
      "2025-04-16 14:30:20,887 - INFO - downloader - image #9\thttps://img.freepik.com/premium-photo/shark-water-hd-8k-wallpaper-stock-photographic-image_915071-53639.jpg\n",
      "2025-04-16 14:30:21,269 - INFO - downloader - image #10\thttps://www.shutterstock.com/image-photo/hundreds-grey-reef-sharks-during-260nw-2567635189.jpg\n",
      "2025-04-16 14:30:21,594 - INFO - downloader - downloaded images reach max num, thread downloader-001 is ready to exit\n",
      "2025-04-16 14:30:21,594 - INFO - downloader - thread downloader-001 exit\n",
      "2025-04-16 14:30:21,652 - INFO - parser - downloaded image reached max num, thread parser-001 is ready to exit\n",
      "2025-04-16 14:30:21,653 - INFO - parser - thread parser-001 exit\n",
      "2025-04-16 14:30:21,687 - INFO - icrawler.crawler - Crawling task done!\n"
     ]
    }
   ],
   "source": [
    "from icrawler.builtin import GoogleImageCrawler\n",
    "\n",
    "def download_images(img_name, folder_name, max_num=10):\n",
    "    crawler = GoogleImageCrawler(storage={'root_dir': folder_name})\n",
    "    crawler.crawl(keyword=img_name + ' 고화질', max_num=max_num)\n",
    "\n",
    "download_images('카리나', 'data/카리나')\n",
    "#download_images('해바라기', 'data/여름/해바라기')"
   ]
  },
  {
   "cell_type": "code",
   "execution_count": null,
   "metadata": {},
   "outputs": [],
   "source": []
  }
 ],
 "metadata": {
  "kernelspec": {
   "display_name": "ML_CV",
   "language": "python",
   "name": "python3"
  },
  "language_info": {
   "codemirror_mode": {
    "name": "ipython",
    "version": 3
   },
   "file_extension": ".py",
   "mimetype": "text/x-python",
   "name": "python",
   "nbconvert_exporter": "python",
   "pygments_lexer": "ipython3",
   "version": "3.9.21"
  }
 },
 "nbformat": 4,
 "nbformat_minor": 2
}
